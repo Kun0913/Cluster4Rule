{
 "cells": [
  {
   "cell_type": "code",
   "execution_count": null,
   "id": "initial_id",
   "metadata": {
    "collapsed": true
   },
   "outputs": [],
   "source": [
    "import os\n",
    "os.environ[\"OMP_NUM_THREADS\"] = '1'\n",
    "\n",
    "import numpy as np\n",
    "from sklearn.manifold import TSNE\n",
    "import matplotlib.pyplot as plt\n",
    "from hopkins import Hopkins\n",
    "from tqdm import tqdm\n"
   ]
  },
  {
   "cell_type": "code",
   "execution_count": null,
   "outputs": [],
   "source": [
    "# 获取当前脚本文件所在目录的绝对路径\n",
    "current_dir = os.getcwd()\n",
    "# 构造 \"data\" 目录的路径\n",
    "data_dir = os.path.join(current_dir, \"../data\")  # 返回上一级目录下的 \"data\" 目录\n",
    "# 定义文件名\n",
    "file_name = f\"output_state_1vs1.txt\"\n",
    "file_path = os.path.join(data_dir, file_name)"
   ],
   "metadata": {
    "collapsed": false
   },
   "id": "6d8db49fb1510e5c"
  },
  {
   "cell_type": "code",
   "execution_count": null,
   "outputs": [],
   "source": [
    "# 读取文本文件\n",
    "with open(file_path, 'r') as file:\n",
    "    lines = file.readlines()\n",
    "\n",
    "# 解析每行数据\n",
    "data = []\n",
    "for line in lines:\n",
    "    row = list(map(float, line.strip().split()))\n",
    "    data.append(row)\n",
    "\n",
    "# 将数据转换为 NumPy 数组\n",
    "import numpy as np\n",
    "data_array = np.array(data)\n",
    "\n",
    "print(\"Data shape:\", data_array.shape)\n",
    "print(\"Sample of data:\")\n",
    "print(data_array[:5])  # 打印前5行数据"
   ],
   "metadata": {
    "collapsed": false
   },
   "id": "10af4d77945c9f0b"
  },
  {
   "cell_type": "code",
   "execution_count": null,
   "outputs": [],
   "source": [
    "labels = data_array[:, -1:].tolist()  # 提取最后两列作为标签，并转换为列表\n",
    "# 创建字典来存储数据分组\n",
    "grouped_data = {}"
   ],
   "metadata": {
    "collapsed": false
   },
   "id": "bbfe42548b0f5668"
  },
  {
   "cell_type": "code",
   "execution_count": null,
   "outputs": [],
   "source": [
    "for i, label in enumerate(labels):\n",
    "    label_key = tuple(label)\n",
    "    if label_key not in grouped_data:\n",
    "        grouped_data[label_key] = []\n",
    "    grouped_data[label_key].append(data_array[i, :-1])  # 去除最后两列\n",
    "# 打印每个分组中的数据数量\n",
    "for label, group in grouped_data.items():\n",
    "    print(f\"Label {label}: {len(group)} samples\")"
   ],
   "metadata": {
    "collapsed": false
   },
   "id": "1eaeca6c3cda02b9"
  },
  {
   "cell_type": "code",
   "execution_count": null,
   "outputs": [],
   "source": [
    "for label, group in grouped_data.items():\n",
    "    grouped_data[label] = np.array(group)"
   ],
   "metadata": {
    "collapsed": false
   },
   "id": "a7ea3ca613cf4573"
  },
  {
   "cell_type": "code",
   "execution_count": null,
   "outputs": [],
   "source": [
    "target_label = (1.0, )\n",
    "if target_label in grouped_data:\n",
    "    cluster_data = grouped_data[target_label]\n",
    "    Hopkins_value = Hopkins(cluster_data)\n",
    "    print(Hopkins_value)\n",
    "else:\n",
    "    Hopkins_value = 0.0"
   ],
   "metadata": {
    "collapsed": false
   },
   "id": "de4e465d1ecc34b3"
  },
  {
   "cell_type": "code",
   "execution_count": null,
   "outputs": [],
   "source": [
    "from HybridClustering import hybrid_clustering\n",
    "if(Hopkins_value>0.55):\n",
    "    kmeans_labels = hybrid_clustering(grouped_data[target_label],2,25)\n",
    "    from WriteCluster import write_cluster_data, write_dbscan_cluster_data\n",
    "    write_cluster_data(grouped_data[target_label], kmeans_labels, \"kmeans\")\n"
   ],
   "metadata": {
    "collapsed": false
   },
   "id": "ab70358a923cf1f6"
  },
  {
   "cell_type": "code",
   "execution_count": null,
   "outputs": [],
   "source": [
    "from boundaries import extract_boundaries\n",
    "upper_bounds, lower_bounds = extract_boundaries('cluster_2_kmeans.txt')\n",
    "print(\"\\n\")\n",
    "print(\"kmeans Upper boundaries:\", upper_bounds)\n",
    "print(\"kmeans Lower boundaries:\", lower_bounds)"
   ],
   "metadata": {
    "collapsed": false
   },
   "id": "ec02922abaa33775"
  },
  {
   "cell_type": "code",
   "execution_count": null,
   "outputs": [],
   "source": [
    "# 使用 t-SNE 进行降维，将数据投影到二维空间\n",
    "tsne = TSNE(n_components=2, random_state=42)\n",
    "with tqdm(total=100, desc=\"TSNE\") as pbar:\n",
    "    X_embedded = tsne.fit_transform(cluster_data)\n",
    "    pbar.update(100)\n",
    "\n",
    "# 绘制聚类结果的二维散点图\n",
    "plt.figure(figsize=(9, 6))\n",
    "\n",
    "# 绘制每个簇的数据点\n",
    "for cluster_label in np.unique(kmeans_labels):\n",
    "    visual_data = X_embedded[kmeans_labels == cluster_label]\n",
    "    plt.scatter(visual_data[:, 0], visual_data[:, 1], label=f'Cluster {cluster_label}')\n",
    "\n",
    "plt.title('t-SNE Visualization of kmeans Clustered Data in 2D')\n",
    "plt.xlabel('t-SNE Component 1')\n",
    "plt.ylabel('t-SNE Component 2')\n",
    "plt.legend()\n",
    "plt.show()"
   ],
   "metadata": {
    "collapsed": false
   },
   "id": "6fffdb2bbdbfd81b"
  }
 ],
 "metadata": {
  "kernelspec": {
   "display_name": "Python 3",
   "language": "python",
   "name": "python3"
  },
  "language_info": {
   "codemirror_mode": {
    "name": "ipython",
    "version": 2
   },
   "file_extension": ".py",
   "mimetype": "text/x-python",
   "name": "python",
   "nbconvert_exporter": "python",
   "pygments_lexer": "ipython2",
   "version": "2.7.6"
  }
 },
 "nbformat": 4,
 "nbformat_minor": 5
}
