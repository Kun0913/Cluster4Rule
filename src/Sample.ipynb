{
 "cells": [
  {
   "cell_type": "code",
   "execution_count": 1,
   "id": "initial_id",
   "metadata": {
    "collapsed": true,
    "ExecuteTime": {
     "end_time": "2024-05-13T12:59:51.460638600Z",
     "start_time": "2024-05-13T12:59:50.602557100Z"
    }
   },
   "outputs": [],
   "source": [
    "import os\n",
    "os.environ[\"OMP_NUM_THREADS\"] = '1'\n",
    "\n",
    "import numpy as np\n",
    "from sklearn.manifold import TSNE\n",
    "import matplotlib.pyplot as plt\n",
    "from hopkins import Hopkins\n",
    "from data_creator import generate_clusters\n",
    "from tqdm import tqdm\n",
    "\n",
    "from SampleDatasetGeneration import generate_sample_data as Sample"
   ]
  },
  {
   "cell_type": "code",
   "execution_count": 3,
   "outputs": [
    {
     "name": "stdout",
     "output_type": "stream",
     "text": [
      "X shape: (1000, 12)\n",
      "Example data:\n",
      "[[ -49.86901183   18.27736143   -5.56782933   -4.3981379   330.22298602\n",
      "  -125.15012083  -45.73427948   -3.50968384    1.            1.\n",
      "     0.            1.        ]\n",
      " [ -35.3400842    14.96454321   -8.79407185   -5.13298615  164.7725663\n",
      "  -163.37522846  -28.00404549   -0.99538605    1.            0.\n",
      "     0.            1.        ]\n",
      " [ -82.33641473  106.82046955   63.98808424    5.75016395 -500.53355988\n",
      "  -178.16371658   56.20231523   -3.02535601    1.            0.\n",
      "     1.            0.        ]\n",
      " [ -30.34751694  111.87015147   28.10087394    1.60255535 -610.79284805\n",
      "  -204.57304428  -71.89562056    5.58380914    1.            1.\n",
      "     1.            0.        ]\n",
      " [ -81.09431557  123.43118517   44.24352336    5.94268432 -628.61562764\n",
      "  -167.07812374   45.50054772   -1.23611224    1.            0.\n",
      "     1.            1.        ]]\n"
     ]
    }
   ],
   "source": [
    "# 使用示例：每一维数据的取值范围都不同\n",
    "feature_ranges = [[-5, 5], [10, 20], [-3, 3], [0, 1], [0, 100], [-10, 10], [5, 15], [0, 1], [0, 1], [0, 1], [0, 1],\n",
    "                  [0, 1]]\n",
    "X, y = Sample(n_samples=1000, n_features=12, centers=5, random_state=42, feature_ranges=feature_ranges)\n",
    "print(\"X shape:\", X.shape)\n",
    "print(\"Example data:\")\n",
    "print(X[:5])"
   ],
   "metadata": {
    "collapsed": false,
    "ExecuteTime": {
     "end_time": "2024-05-13T13:00:15.792276900Z",
     "start_time": "2024-05-13T13:00:15.740026Z"
    }
   },
   "id": "8c14ff560da8f468"
  },
  {
   "cell_type": "code",
   "execution_count": 4,
   "outputs": [
    {
     "name": "stderr",
     "output_type": "stream",
     "text": [
      "Hopkins: 100%|██████████| 50/50 [00:00<00:00, 2640.32it/s]"
     ]
    },
    {
     "name": "stdout",
     "output_type": "stream",
     "text": [
      "0.8317538633255683\n"
     ]
    },
    {
     "name": "stderr",
     "output_type": "stream",
     "text": [
      "\n"
     ]
    }
   ],
   "source": [
    "X, y = Sample(n_samples=500, n_features=12, centers=5, random_state=42, feature_ranges=feature_ranges)\n",
    "data = X\n",
    "Hopkins_value = Hopkins(data)\n",
    "print(Hopkins_value)"
   ],
   "metadata": {
    "collapsed": false,
    "ExecuteTime": {
     "end_time": "2024-05-13T13:01:23.635527500Z",
     "start_time": "2024-05-13T13:01:23.573105300Z"
    }
   },
   "id": "193d06e112106c29"
  },
  {
   "cell_type": "code",
   "execution_count": 5,
   "outputs": [
    {
     "name": "stderr",
     "output_type": "stream",
     "text": [
      "                                                      \r"
     ]
    },
    {
     "name": "stdout",
     "output_type": "stream",
     "text": [
      "\n",
      " Best number of clusters: 3\n"
     ]
    },
    {
     "name": "stderr",
     "output_type": "stream",
     "text": [
      "Kmeans: 100%|██████████| 100/100 [00:00<00:00, 2678.05it/s]\n",
      "writing: 100%|██████████| 3/3 [00:00<00:00, 895.20it/s]\n",
      "                                                      \r"
     ]
    },
    {
     "name": "stdout",
     "output_type": "stream",
     "text": [
      "\n",
      " Best number of clusters: 3\n"
     ]
    },
    {
     "name": "stderr",
     "output_type": "stream",
     "text": [
      "Kmeans: 100%|██████████| 100/100 [00:00<00:00, 7614.93it/s]\n",
      "writing: 100%|██████████| 3/3 [00:00<00:00, 832.42it/s]\n"
     ]
    }
   ],
   "source": [
    "from HybridClustering import hybrid_clustering\n",
    "if(Hopkins_value>0.55):\n",
    "    kmeans_labels = hybrid_clustering(data)\n",
    "    from WriteCluster import write_cluster_data, write_dbscan_cluster_data\n",
    "    write_cluster_data(data, kmeans_labels, \"kmeans\")\n",
    "\n",
    "kmeans_labels = hybrid_clustering(data)\n",
    "from WriteCluster import write_cluster_data, write_dbscan_cluster_data\n",
    "write_cluster_data(data, kmeans_labels, \"kmeans\")"
   ],
   "metadata": {
    "collapsed": false,
    "ExecuteTime": {
     "end_time": "2024-05-13T13:03:06.644856600Z",
     "start_time": "2024-05-13T13:03:06.409053100Z"
    }
   },
   "id": "35fc93c8e121fe45"
  },
  {
   "cell_type": "code",
   "execution_count": null,
   "outputs": [],
   "source": [],
   "metadata": {
    "collapsed": false
   },
   "id": "14883fae17e59684"
  }
 ],
 "metadata": {
  "kernelspec": {
   "display_name": "Python 3",
   "language": "python",
   "name": "python3"
  },
  "language_info": {
   "codemirror_mode": {
    "name": "ipython",
    "version": 2
   },
   "file_extension": ".py",
   "mimetype": "text/x-python",
   "name": "python",
   "nbconvert_exporter": "python",
   "pygments_lexer": "ipython2",
   "version": "2.7.6"
  }
 },
 "nbformat": 4,
 "nbformat_minor": 5
}
